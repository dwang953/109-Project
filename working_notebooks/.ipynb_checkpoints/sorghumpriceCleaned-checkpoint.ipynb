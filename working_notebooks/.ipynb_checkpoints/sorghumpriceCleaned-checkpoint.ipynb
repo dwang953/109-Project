{
 "cells": [
  {
   "cell_type": "markdown",
   "metadata": {},
   "source": [
    "# Cleaned Sorghum Price"
   ]
  },
  {
   "cell_type": "code",
   "execution_count": 5,
   "metadata": {
    "collapsed": true
   },
   "outputs": [],
   "source": [
    "%matplotlib inline\n",
    "import numpy as np\n",
    "import scipy as sp\n",
    "import matplotlib as mpl\n",
    "import matplotlib.cm as cm\n",
    "import matplotlib.pyplot as plt\n",
    "import pandas as pd\n",
    "pd.set_option('display.width', 500)\n",
    "pd.set_option('display.max_columns', 100)\n",
    "pd.set_option('display.notebook_repr_html', True)\n",
    "import seaborn as sns\n",
    "sns.set_style(\"whitegrid\")\n",
    "sns.set_context(\"poster\")"
   ]
  },
  {
   "cell_type": "code",
   "execution_count": 6,
   "metadata": {
    "collapsed": false
   },
   "outputs": [],
   "source": [
    "sorghumprice_df=pd.read_csv(\"../data/sorghumprice.csv\")\n",
    "sorghumprice_df.head()\n",
    "\n",
    "\n",
    "#rename column names for easy calling (retrieval)\n",
    "sorghumprice_df.columns = ['month-year', 'price', 'change']\n",
    "sorghumprice_df = sorghumprice_df[~sorghumprice_df['month-year'].isin(['Month'])]\n",
    "\n",
    "# Split the Month and the Year\n",
    "month = []\n",
    "year = []\n",
    "for row in sorghumprice_df['month-year']:\n",
    "    suffix_year = row.split('-')\n",
    "    month.append(suffix_year[0])\n",
    "    if suffix_year[1][0] == '9':\n",
    "        year.append('19'+suffix_year[1])\n",
    "    else:\n",
    "        year.append('20'+suffix_year[1])\n",
    "sorghumprice_df['Month'] = month\n",
    "sorghumprice_df['Year'] = year\n",
    "\n",
    "# remove month-year column \n",
    "sorghumprice_df.drop('month-year', axis=1)\n",
    "\n",
    "# rearrange columns \n",
    "sorghumprice_df = sorghumprice_df[['Month', 'Year', 'price','change']]\n",
    "\n",
    "# remove extranneous numbers of first row\n",
    "sorghumprice_df.drop(sorghumprice_df.columns[0], axis=1)\n",
    "sorghumprice_df.columns = ['Month', 'Year', 'Price','change']"
   ]
  },
  {
   "cell_type": "code",
   "execution_count": 7,
   "metadata": {
    "collapsed": false
   },
   "outputs": [
    {
     "data": {
      "text/plain": [
       "<bound method DataFrame.head of     Month  Year   Price   change\n",
       "1     Nov  1990   98.16        -\n",
       "2     Dec  1990  100.97    2.86%\n",
       "3     Jan  1991  105.07    4.06%\n",
       "4     Feb  1991  106.37    1.24%\n",
       "5     Mar  1991   109.9    3.32%\n",
       "6     Apr  1991  109.02   -0.80%\n",
       "7     May  1991  101.99   -6.45%\n",
       "8     Jun  1991      98   -3.91%\n",
       "9     Jul  1991   99.43    1.46%\n",
       "10    Aug  1991  105.47    6.07%\n",
       "11    Sep  1991  106.21    0.70%\n",
       "12    Oct  1991  107.01    0.75%\n",
       "13    Nov  1991  105.45   -1.46%\n",
       "14    Dec  1991  107.42    1.87%\n",
       "15    Jan  1992  111.64    3.93%\n",
       "16    Feb  1992  116.73    4.56%\n",
       "17    Mar  1992  120.15    2.93%\n",
       "18    Apr  1992  109.35   -8.99%\n",
       "19    May  1992  108.03   -1.21%\n",
       "20    Jun  1992  104.66   -3.12%\n",
       "21    Jul  1992   95.86   -8.41%\n",
       "22    Aug  1992    93.7   -2.25%\n",
       "23    Sep  1992   93.75    0.05%\n",
       "24    Oct  1992   91.01   -2.92%\n",
       "25    Nov  1992   92.37    1.49%\n",
       "26    Dec  1992   95.75    3.66%\n",
       "27    Jan  1993   95.18   -0.60%\n",
       "28    Feb  1993   94.47   -0.75%\n",
       "29    Mar  1993    95.4    0.98%\n",
       "30    Apr  1993   95.06   -0.36%\n",
       "..    ...   ...     ...      ...\n",
       "267   May  2013  273.59    1.64%\n",
       "268   Jun  2013  236.78  -13.46%\n",
       "269   Jul  2013  220.02   -7.08%\n",
       "270   Aug  2013  220.62    0.27%\n",
       "271   Sep  2013  216.93   -1.67%\n",
       "272   Oct  2013  205.25   -5.39%\n",
       "273   Nov  2013  195.23   -4.88%\n",
       "274   Dec  2013   205.9    5.46%\n",
       "275   Jan  2014  215.73    4.77%\n",
       "276   Feb  2014  223.81    3.75%\n",
       "277   Mar  2014     233    4.10%\n",
       "278   Apr  2014  232.04   -0.41%\n",
       "279   May  2014  221.01   -4.75%\n",
       "280   Jun  2014   204.7   -7.38%\n",
       "281   Jul  2014  193.01   -5.71%\n",
       "282   Aug  2014  185.44   -3.92%\n",
       "283   Sep  2014   174.3   -6.01%\n",
       "284   Oct  2014  187.82    7.75%\n",
       "285   Nov  2014  199.56    6.26%\n",
       "286   Dec  2014  215.62    8.05%\n",
       "287   Jan  2015  229.62    6.49%\n",
       "288   Feb  2015  235.96    2.76%\n",
       "289   Mar  2015  246.64    4.53%\n",
       "290   Apr  2015  246.64    0.00%\n",
       "291   May  2015  246.64    0.00%\n",
       "292   Jun  2015  212.96  -13.65%\n",
       "293   Jul  2015  212.96    0.00%\n",
       "294   Aug  2015  212.96    0.00%\n",
       "295   Sep  2015  178.06  -16.39%\n",
       "296   Oct  2015  181.21    1.77%\n",
       "\n",
       "[296 rows x 4 columns]>"
      ]
     },
     "execution_count": 7,
     "metadata": {},
     "output_type": "execute_result"
    }
   ],
   "source": [
    "sorghumprice_df.head"
   ]
  },
  {
   "cell_type": "code",
   "execution_count": 8,
   "metadata": {
    "collapsed": false
   },
   "outputs": [],
   "source": [
    "sorghumprice_df.to_csv('../cleaned_data/sorghumprice_df.csv')"
   ]
  },
  {
   "cell_type": "code",
   "execution_count": null,
   "metadata": {
    "collapsed": true
   },
   "outputs": [],
   "source": []
  }
 ],
 "metadata": {
  "kernelspec": {
   "display_name": "Python 2",
   "language": "python",
   "name": "python2"
  },
  "language_info": {
   "codemirror_mode": {
    "name": "ipython",
    "version": 2
   },
   "file_extension": ".py",
   "mimetype": "text/x-python",
   "name": "python",
   "nbconvert_exporter": "python",
   "pygments_lexer": "ipython2",
   "version": "2.7.10"
  }
 },
 "nbformat": 4,
 "nbformat_minor": 0
}
