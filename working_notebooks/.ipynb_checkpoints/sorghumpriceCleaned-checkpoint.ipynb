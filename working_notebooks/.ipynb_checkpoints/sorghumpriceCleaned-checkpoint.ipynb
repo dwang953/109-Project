{
 "cells": [
  {
   "cell_type": "markdown",
   "metadata": {},
   "source": [
    "# Cleaned Sorghum Price"
   ]
  },
  {
   "cell_type": "code",
   "execution_count": 7,
   "metadata": {
    "collapsed": true
   },
   "outputs": [],
   "source": [
    "%matplotlib inline\n",
    "import numpy as np\n",
    "import scipy as sp\n",
    "import matplotlib as mpl\n",
    "import matplotlib.cm as cm\n",
    "import matplotlib.pyplot as plt\n",
    "import pandas as pd\n",
    "pd.set_option('display.width', 500)\n",
    "pd.set_option('display.max_columns', 100)\n",
    "pd.set_option('display.notebook_repr_html', True)\n",
    "import seaborn as sns\n",
    "sns.set_style(\"whitegrid\")\n",
    "sns.set_context(\"poster\")"
   ]
  },
  {
   "cell_type": "code",
   "execution_count": 9,
   "metadata": {
    "collapsed": false
   },
   "outputs": [],
   "source": [
    "sorghumprice_df=pd.read_csv(\"../data/sorghumprice.csv\")\n",
    "sorghumprice_df.head()\n",
    "\n",
    "\n",
    "#rename column names for easy calling (retrieval)\n",
    "sorghumprice_df.columns = ['month-year', 'price', 'change']\n",
    "sorghumprice_df = sorghumprice_df[~sorghumprice_df['month-year'].isin(['Month'])]\n",
    "\n",
    "# Split the Month and the Year\n",
    "month = []\n",
    "year = []\n",
    "for row in sorghumprice_df['month-year']:\n",
    "    suffix_year = row.split('-')\n",
    "    month.append(suffix_year[0])\n",
    "    if suffix_year[1][0] == '9':\n",
    "        year.append('19'+suffix_year[1])\n",
    "    else:\n",
    "        year.append('19'+suffix_year[1])\n",
    "sorghumprice_df['Month'] = month\n",
    "sorghumprice_df['Year'] = year\n",
    "\n",
    "# remove month-year column \n",
    "sorghumprice_df.drop('month-year', axis=1)\n",
    "\n",
    "# rearrange columns \n",
    "sorghumprice_df = sorghumprice_df[['Month', 'Year', 'price','change']]\n",
    "\n",
    "# remove extranneous numbers of first row\n",
    "sorghumprice_df.drop(sorghumprice_df.columns[0], axis=1)\n",
    "sorghumprice_df.columns = ['Month', 'Year', 'Price','change']"
   ]
  },
  {
   "cell_type": "code",
   "execution_count": 10,
   "metadata": {
    "collapsed": false
   },
   "outputs": [
    {
     "data": {
      "text/html": [
       "<div>\n",
       "<table border=\"1\" class=\"dataframe\">\n",
       "  <thead>\n",
       "    <tr style=\"text-align: right;\">\n",
       "      <th></th>\n",
       "      <th>Month</th>\n",
       "      <th>Year</th>\n",
       "      <th>Price</th>\n",
       "      <th>change</th>\n",
       "    </tr>\n",
       "  </thead>\n",
       "  <tbody>\n",
       "    <tr>\n",
       "      <th>1</th>\n",
       "      <td>Nov</td>\n",
       "      <td>1990</td>\n",
       "      <td>98.16</td>\n",
       "      <td>-</td>\n",
       "    </tr>\n",
       "    <tr>\n",
       "      <th>2</th>\n",
       "      <td>Dec</td>\n",
       "      <td>1990</td>\n",
       "      <td>100.97</td>\n",
       "      <td>2.86%</td>\n",
       "    </tr>\n",
       "    <tr>\n",
       "      <th>3</th>\n",
       "      <td>Jan</td>\n",
       "      <td>1991</td>\n",
       "      <td>105.07</td>\n",
       "      <td>4.06%</td>\n",
       "    </tr>\n",
       "    <tr>\n",
       "      <th>4</th>\n",
       "      <td>Feb</td>\n",
       "      <td>1991</td>\n",
       "      <td>106.37</td>\n",
       "      <td>1.24%</td>\n",
       "    </tr>\n",
       "    <tr>\n",
       "      <th>5</th>\n",
       "      <td>Mar</td>\n",
       "      <td>1991</td>\n",
       "      <td>109.9</td>\n",
       "      <td>3.32%</td>\n",
       "    </tr>\n",
       "  </tbody>\n",
       "</table>\n",
       "</div>"
      ],
      "text/plain": [
       "  Month  Year   Price change\n",
       "1   Nov  1990   98.16      -\n",
       "2   Dec  1990  100.97  2.86%\n",
       "3   Jan  1991  105.07  4.06%\n",
       "4   Feb  1991  106.37  1.24%\n",
       "5   Mar  1991   109.9  3.32%"
      ]
     },
     "execution_count": 10,
     "metadata": {},
     "output_type": "execute_result"
    }
   ],
   "source": [
    "sorghumprice_df.head()"
   ]
  },
  {
   "cell_type": "code",
   "execution_count": 12,
   "metadata": {
    "collapsed": false
   },
   "outputs": [],
   "source": [
    "sorghumprice_df.to_csv('../cleaned_data/sorghumprice_df.csv')"
   ]
  }
 ],
 "metadata": {
  "kernelspec": {
   "display_name": "Python 2",
   "language": "python",
   "name": "python2"
  },
  "language_info": {
   "codemirror_mode": {
    "name": "ipython",
    "version": 2
   },
   "file_extension": ".py",
   "mimetype": "text/x-python",
   "name": "python",
   "nbconvert_exporter": "python",
   "pygments_lexer": "ipython2",
   "version": "2.7.10"
  }
 },
 "nbformat": 4,
 "nbformat_minor": 0
}
