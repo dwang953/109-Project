{
 "cells": [
  {
   "cell_type": "markdown",
   "metadata": {},
   "source": [
    "# Cleaned Cotton Price"
   ]
  },
  {
   "cell_type": "code",
   "execution_count": 1,
   "metadata": {
    "collapsed": true
   },
   "outputs": [],
   "source": [
    "%matplotlib inline\n",
    "import numpy as np\n",
    "import scipy as sp\n",
    "import matplotlib as mpl\n",
    "import matplotlib.cm as cm\n",
    "import matplotlib.pyplot as plt\n",
    "import pandas as pd\n",
    "pd.set_option('display.width', 500)\n",
    "pd.set_option('display.max_columns', 100)\n",
    "pd.set_option('display.notebook_repr_html', True)\n",
    "import seaborn as sns\n",
    "sns.set_style(\"whitegrid\")\n",
    "sns.set_context(\"poster\")"
   ]
  },
  {
   "cell_type": "code",
   "execution_count": 5,
   "metadata": {
    "collapsed": false
   },
   "outputs": [],
   "source": [
    "cottonprice_df=pd.read_csv(\"../data/cottonprice.csv\")\n",
    "cottonprice_df.head()\n",
    "\n",
    "\n",
    "#rename column names for easy calling (retrieval)\n",
    "cottonprice_df.columns = ['month-year', 'price', 'change']\n",
    "cottonprice_df = cottonprice_df[~cottonprice_df['month-year'].isin(['Month'])]\n",
    "\n",
    "# Split the Month and the Year\n",
    "month = []\n",
    "year = []\n",
    "for row in cottonprice_df['month-year']:\n",
    "    suffix_year = row.split('-')\n",
    "    month.append(suffix_year[0])\n",
    "    if suffix_year[1][0] == '9':\n",
    "        year.append('19'+suffix_year[1])\n",
    "    else:\n",
    "        year.append('20'+suffix_year[1])\n",
    "cottonprice_df['Month'] = month\n",
    "cottonprice_df['Year'] = year\n",
    "\n",
    "# remove month-year column \n",
    "cottonprice_df.drop('month-year', axis=1)\n",
    "\n",
    "# rearrange columns \n",
    "cottonprice_df = cottonprice_df[['Month', 'Year', 'price','change']]\n",
    "\n",
    "# remove extranneous numbers of first row\n",
    "cottonprice_df.drop(cottonprice_df.columns[0], axis=1)\n",
    "cottonprice_df.columns = ['Month', 'Year', 'Price','change']"
   ]
  },
  {
   "cell_type": "code",
   "execution_count": 6,
   "metadata": {
    "collapsed": false
   },
   "outputs": [
    {
     "data": {
      "text/plain": [
       "<bound method DataFrame.head of     Month  Year  Price   change\n",
       "1     Nov  1990  82.43        -\n",
       "2     Dec  1990  83.86    1.73%\n",
       "3     Jan  1991  83.71   -0.18%\n",
       "4     Feb  1991  84.88    1.40%\n",
       "5     Mar  1991  84.23   -0.77%\n",
       "6     Apr  1991  83.43   -0.95%\n",
       "7     May  1991  84.17    0.89%\n",
       "8     Jun  1991  83.84   -0.39%\n",
       "9     Jul  1991  81.02   -3.36%\n",
       "10    Aug  1991  73.47   -9.32%\n",
       "11    Sep  1991  70.33   -4.27%\n",
       "12    Oct  1991  67.94   -3.40%\n",
       "13    Nov  1991   64.1   -5.65%\n",
       "14    Dec  1991  61.76   -3.65%\n",
       "15    Jan  1992  59.62   -3.47%\n",
       "16    Feb  1992   56.3   -5.57%\n",
       "17    Mar  1992  55.33   -1.72%\n",
       "18    Apr  1992  57.99    4.81%\n",
       "19    May  1992  60.59    4.48%\n",
       "20    Jun  1992  63.89    5.45%\n",
       "21    Jul  1992  65.29    2.19%\n",
       "22    Aug  1992  59.75   -8.49%\n",
       "23    Sep  1992  56.65   -5.19%\n",
       "24    Oct  1992  53.12   -6.23%\n",
       "25    Nov  1992  52.69   -0.81%\n",
       "26    Dec  1992     54    2.49%\n",
       "27    Jan  1993  57.29    6.09%\n",
       "28    Feb  1993  60.55    5.69%\n",
       "29    Mar  1993  61.45    1.49%\n",
       "30    Apr  1993  61.07   -0.62%\n",
       "..    ...   ...    ...      ...\n",
       "271   May  2013  92.62    0.09%\n",
       "272   Jun  2013  93.08    0.50%\n",
       "273   Jul  2013  92.62   -0.49%\n",
       "274   Aug  2013  92.71    0.10%\n",
       "275   Sep  2013  90.09   -2.83%\n",
       "276   Oct  2013  89.35   -0.82%\n",
       "277   Nov  2013  84.65   -5.26%\n",
       "278   Dec  2013  87.49    3.35%\n",
       "279   Jan  2014  90.96    3.97%\n",
       "280   Feb  2014  94.05    3.40%\n",
       "281   Mar  2014  96.95    3.08%\n",
       "282   Apr  2014   94.2   -2.84%\n",
       "283   May  2014  92.71   -1.58%\n",
       "284   Jun  2014   90.9   -1.95%\n",
       "285   Jul  2014  83.84   -7.77%\n",
       "286   Aug  2014     74  -11.74%\n",
       "287   Sep  2014  73.38   -0.84%\n",
       "288   Oct  2014  70.34   -4.14%\n",
       "289   Nov  2014  67.53   -3.99%\n",
       "290   Dec  2014   68.3    1.14%\n",
       "291   Jan  2015  67.35   -1.39%\n",
       "292   Feb  2015  69.84    3.70%\n",
       "293   Mar  2015  69.35   -0.70%\n",
       "294   Apr  2015   71.7    3.39%\n",
       "295   May  2015  72.86    1.62%\n",
       "296   Jun  2015  72.35   -0.70%\n",
       "297   Jul  2015  72.35    0.00%\n",
       "298   Aug  2015  71.82   -0.73%\n",
       "299   Sep  2015  68.74   -4.29%\n",
       "300   Oct  2015  69.03    0.42%\n",
       "\n",
       "[300 rows x 4 columns]>"
      ]
     },
     "execution_count": 6,
     "metadata": {},
     "output_type": "execute_result"
    }
   ],
   "source": [
    "cottonprice_df.head"
   ]
  },
  {
   "cell_type": "code",
   "execution_count": 7,
   "metadata": {
    "collapsed": false
   },
   "outputs": [],
   "source": [
    "cottonprice_df.to_csv('../cleaned_data/cottonprice_df.csv')"
   ]
  },
  {
   "cell_type": "code",
   "execution_count": null,
   "metadata": {
    "collapsed": true
   },
   "outputs": [],
   "source": []
  }
 ],
 "metadata": {
  "kernelspec": {
   "display_name": "Python 2",
   "language": "python",
   "name": "python2"
  },
  "language_info": {
   "codemirror_mode": {
    "name": "ipython",
    "version": 2
   },
   "file_extension": ".py",
   "mimetype": "text/x-python",
   "name": "python",
   "nbconvert_exporter": "python",
   "pygments_lexer": "ipython2",
   "version": "2.7.10"
  }
 },
 "nbformat": 4,
 "nbformat_minor": 0
}
