{
 "cells": [
  {
   "cell_type": "markdown",
   "metadata": {},
   "source": [
    "# Cleaned Soy Price"
   ]
  },
  {
   "cell_type": "code",
   "execution_count": 2,
   "metadata": {
    "collapsed": true
   },
   "outputs": [],
   "source": [
    "%matplotlib inline\n",
    "import numpy as np\n",
    "import scipy as sp\n",
    "import matplotlib as mpl\n",
    "import matplotlib.cm as cm\n",
    "import matplotlib.pyplot as plt\n",
    "import pandas as pd\n",
    "pd.set_option('display.width', 500)\n",
    "pd.set_option('display.max_columns', 100)\n",
    "pd.set_option('display.notebook_repr_html', True)\n",
    "import seaborn as sns\n",
    "sns.set_style(\"whitegrid\")\n",
    "sns.set_context(\"poster\")"
   ]
  },
  {
   "cell_type": "code",
   "execution_count": 3,
   "metadata": {
    "collapsed": false
   },
   "outputs": [],
   "source": [
    "soyprice_df=pd.read_csv(\"../data/soyprice.csv\")\n",
    "soyprice_df.head()\n",
    "\n",
    "\n",
    "#rename column names for easy calling (retrieval)\n",
    "soyprice_df.columns = ['month-year', 'price', 'change']\n",
    "soyprice_df = soyprice_df[~soyprice_df['month-year'].isin(['Month'])]\n",
    "\n",
    "# Split the Month and the Year\n",
    "month = []\n",
    "year = []\n",
    "for row in soyprice_df['month-year']:\n",
    "    suffix_year = row.split('-')\n",
    "    month.append(suffix_year[0])\n",
    "    if suffix_year[1][0] == '9':\n",
    "        year.append('19'+suffix_year[1])\n",
    "    else:\n",
    "        year.append('20'+suffix_year[1])\n",
    "soyprice_df['Month'] = month\n",
    "soyprice_df['Year'] = year\n",
    "\n",
    "# remove month-year column \n",
    "soyprice_df.drop('month-year', axis=1)\n",
    "\n",
    "# rearrange columns \n",
    "soyprice_df = soyprice_df[['Month', 'Year', 'price','change']]\n",
    "\n",
    "# remove extranneous numbers of first row\n",
    "soyprice_df.drop(soyprice_df.columns[0], axis=1)\n",
    "soyprice_df.columns = ['Month', 'Year', 'Price','change']"
   ]
  },
  {
   "cell_type": "code",
   "execution_count": 6,
   "metadata": {
    "collapsed": false
   },
   "outputs": [
    {
     "data": {
      "text/plain": [
       "<bound method DataFrame.head of     Month  Year   Price   change\n",
       "1     Nov  1990  211.85        -\n",
       "2     Dec  1990  213.87    0.95%\n",
       "3     Jan  1991  207.51   -2.97%\n",
       "4     Feb  1991  210.13    1.26%\n",
       "5     Mar  1991  213.32    1.52%\n",
       "6     Apr  1991  215.89    1.20%\n",
       "7     May  1991  210.65   -2.43%\n",
       "8     Jun  1991  208.86   -0.85%\n",
       "9     Jul  1991   199.1   -4.67%\n",
       "10    Aug  1991  208.08    4.51%\n",
       "11    Sep  1991  216.24    3.92%\n",
       "12    Oct  1991  205.74   -4.86%\n",
       "13    Nov  1991  205.67   -0.03%\n",
       "14    Dec  1991  204.15   -0.74%\n",
       "15    Jan  1992  208.61    2.18%\n",
       "16    Feb  1992  211.16    1.22%\n",
       "17    Mar  1992  216.14    2.36%\n",
       "18    Apr  1992   211.3   -2.24%\n",
       "19    May  1992  220.37    4.29%\n",
       "20    Jun  1992  224.39    1.82%\n",
       "21    Jul  1992   208.1   -7.26%\n",
       "22    Aug  1992  202.87   -2.51%\n",
       "23    Sep  1992  202.89    0.01%\n",
       "24    Oct  1992  197.68   -2.57%\n",
       "25    Nov  1992  205.21    3.81%\n",
       "26    Dec  1992  208.91    1.80%\n",
       "27    Jan  1993  212.33    1.64%\n",
       "28    Feb  1993  210.03   -1.08%\n",
       "29    Mar  1993  214.12    1.95%\n",
       "30    Apr  1993  217.68    1.66%\n",
       "..    ...   ...     ...      ...\n",
       "271   May  2013   542.2    4.71%\n",
       "272   Jun  2013  560.16    3.31%\n",
       "273   Jul  2013  548.35   -2.11%\n",
       "274   Aug  2013  498.05   -9.17%\n",
       "275   Sep  2013  503.24    1.04%\n",
       "276   Oct  2013  472.83   -6.04%\n",
       "277   Nov  2013  476.66    0.81%\n",
       "278   Dec  2013  488.67    2.52%\n",
       "279   Jan  2014   476.1   -2.57%\n",
       "280   Feb  2014   496.8    4.35%\n",
       "281   Mar  2014     522    5.07%\n",
       "282   Apr  2014  547.19    4.83%\n",
       "283   May  2014  546.03   -0.21%\n",
       "284   Jun  2014     528   -3.30%\n",
       "285   Jul  2014  463.23  -12.27%\n",
       "286   Aug  2014  432.99   -6.53%\n",
       "287   Sep  2014  368.85  -14.81%\n",
       "288   Oct  2014  354.44   -3.91%\n",
       "289   Nov  2014  379.34    7.03%\n",
       "290   Dec  2014  378.78   -0.15%\n",
       "291   Jan  2015  367.49   -2.98%\n",
       "292   Feb  2015  364.74   -0.75%\n",
       "293   Mar  2015   359.6   -1.41%\n",
       "294   Apr  2015  356.93   -0.74%\n",
       "295   May  2015  351.95   -1.40%\n",
       "296   Jun  2015  354.82    0.82%\n",
       "297   Jul  2015  372.35    4.94%\n",
       "298   Aug  2015  347.02   -6.80%\n",
       "299   Sep  2015  323.55   -6.76%\n",
       "300   Oct  2015  327.42    1.20%\n",
       "\n",
       "[300 rows x 4 columns]>"
      ]
     },
     "execution_count": 6,
     "metadata": {},
     "output_type": "execute_result"
    }
   ],
   "source": [
    "soyprice_df.head"
   ]
  },
  {
   "cell_type": "code",
   "execution_count": 7,
   "metadata": {
    "collapsed": false
   },
   "outputs": [],
   "source": [
    "soyprice_df.to_csv('../cleaned_data/soyprice_df.csv')"
   ]
  },
  {
   "cell_type": "code",
   "execution_count": null,
   "metadata": {
    "collapsed": true
   },
   "outputs": [],
   "source": []
  }
 ],
 "metadata": {
  "kernelspec": {
   "display_name": "Python 2",
   "language": "python",
   "name": "python2"
  },
  "language_info": {
   "codemirror_mode": {
    "name": "ipython",
    "version": 2
   },
   "file_extension": ".py",
   "mimetype": "text/x-python",
   "name": "python",
   "nbconvert_exporter": "python",
   "pygments_lexer": "ipython2",
   "version": "2.7.10"
  }
 },
 "nbformat": 4,
 "nbformat_minor": 0
}
